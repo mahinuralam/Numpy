{
 "cells": [
  {
   "cell_type": "markdown",
   "id": "13bfc141",
   "metadata": {
    "_cell_guid": "b1076dfc-b9ad-4769-8c92-a6c4dae69d19",
    "_uuid": "8f2839f25d086af736a60e9eeb907d3b93b6e0e5",
    "papermill": {
     "duration": 0.007832,
     "end_time": "2023-12-14T11:43:32.550706",
     "exception": false,
     "start_time": "2023-12-14T11:43:32.542874",
     "status": "completed"
    },
    "tags": []
   },
   "source": [
    "# This Python 3 environment comes with many helpful analytics libraries installed\n",
    "# It is defined by the kaggle/python Docker image: https://github.com/kaggle/docker-python\n",
    "# For example, here's several helpful packages to load\n",
    "\n",
    "import numpy as np # linear algebra\n",
    "import pandas as pd # data processing, CSV file I/O (e.g. pd.read_csv)\n",
    "\n",
    "# Input data files are available in the read-only \"../input/\" directory\n",
    "# For example, running this (by clicking run or pressing Shift+Enter) will list all files under the input directory\n",
    "\n",
    "import os\n",
    "for dirname, _, filenames in os.walk('/kaggle/input'):\n",
    "    for filename in filenames:\n",
    "        print(os.path.join(dirname, filename))\n",
    "\n",
    "# You can write up to 20GB to the current directory (/kaggle/working/) that gets preserved as output when you create a version using \"Save & Run All\" \n",
    "# You can also write temporary files to /kaggle/temp/, but they won't be saved outside of the current session"
   ]
  },
  {
   "cell_type": "code",
   "execution_count": 1,
   "id": "a894c227",
   "metadata": {
    "execution": {
     "iopub.execute_input": "2023-12-14T11:43:32.567820Z",
     "iopub.status.busy": "2023-12-14T11:43:32.567153Z",
     "iopub.status.idle": "2023-12-14T11:43:32.576945Z",
     "shell.execute_reply": "2023-12-14T11:43:32.576214Z"
    },
    "papermill": {
     "duration": 0.020952,
     "end_time": "2023-12-14T11:43:32.579273",
     "exception": false,
     "start_time": "2023-12-14T11:43:32.558321",
     "status": "completed"
    },
    "tags": []
   },
   "outputs": [],
   "source": [
    "import numpy as np"
   ]
  },
  {
   "cell_type": "markdown",
   "id": "a0da65e9",
   "metadata": {
    "papermill": {
     "duration": 0.007221,
     "end_time": "2023-12-14T11:43:32.594196",
     "exception": false,
     "start_time": "2023-12-14T11:43:32.586975",
     "status": "completed"
    },
    "tags": []
   },
   "source": [
    "## Array related functions"
   ]
  },
  {
   "cell_type": "code",
   "execution_count": 2,
   "id": "099244bc",
   "metadata": {
    "execution": {
     "iopub.execute_input": "2023-12-14T11:43:32.611211Z",
     "iopub.status.busy": "2023-12-14T11:43:32.610697Z",
     "iopub.status.idle": "2023-12-14T11:43:32.623131Z",
     "shell.execute_reply": "2023-12-14T11:43:32.621771Z"
    },
    "papermill": {
     "duration": 0.023832,
     "end_time": "2023-12-14T11:43:32.625626",
     "exception": false,
     "start_time": "2023-12-14T11:43:32.601794",
     "status": "completed"
    },
    "tags": []
   },
   "outputs": [
    {
     "name": "stdout",
     "output_type": "stream",
     "text": [
      "5\n",
      "1\n",
      "8\n"
     ]
    },
    {
     "data": {
      "text/plain": [
       "array([[1., 1., 1.],\n",
       "       [1., 1., 1.]])"
      ]
     },
     "execution_count": 2,
     "metadata": {},
     "output_type": "execute_result"
    }
   ],
   "source": [
    "a = np.array([5,6,7])\n",
    "print(a[0])\n",
    "print(a.ndim)\n",
    "print(a.itemsize)\n",
    "np.zeros( (2,3) )\n",
    "np.ones( (2,3) )"
   ]
  },
  {
   "cell_type": "markdown",
   "id": "bd5b13ac",
   "metadata": {
    "papermill": {
     "duration": 0.008146,
     "end_time": "2023-12-14T11:43:32.642129",
     "exception": false,
     "start_time": "2023-12-14T11:43:32.633983",
     "status": "completed"
    },
    "tags": []
   },
   "source": [
    "## Array realted functions"
   ]
  },
  {
   "cell_type": "code",
   "execution_count": 3,
   "id": "c238626f",
   "metadata": {
    "execution": {
     "iopub.execute_input": "2023-12-14T11:43:32.659195Z",
     "iopub.status.busy": "2023-12-14T11:43:32.658791Z",
     "iopub.status.idle": "2023-12-14T11:43:32.665830Z",
     "shell.execute_reply": "2023-12-14T11:43:32.664923Z"
    },
    "papermill": {
     "duration": 0.017728,
     "end_time": "2023-12-14T11:43:32.667675",
     "exception": false,
     "start_time": "2023-12-14T11:43:32.649947",
     "status": "completed"
    },
    "tags": []
   },
   "outputs": [
    {
     "name": "stdout",
     "output_type": "stream",
     "text": [
      "[5.+0.j 6.+0.j 7.+0.j]\n",
      "2\n",
      "16\n",
      "complex128\n",
      "[[ 5.+0.j  6.+0.j  7.+0.j]\n",
      " [ 8.+0.j  9.+0.j 10.+0.j]]\n",
      "6\n",
      "(2, 3)\n"
     ]
    }
   ],
   "source": [
    "a = np.array([[5,6,7],[8,9,10]], dtype=complex)\n",
    "print(a[0])\n",
    "print(a.ndim)\n",
    "print(a.itemsize)\n",
    "print(a.dtype)\n",
    "print(a)\n",
    "print(a.size)\n",
    "print(a.shape)\n"
   ]
  },
  {
   "cell_type": "markdown",
   "id": "a57f744a",
   "metadata": {
    "papermill": {
     "duration": 0.007393,
     "end_time": "2023-12-14T11:43:32.682872",
     "exception": false,
     "start_time": "2023-12-14T11:43:32.675479",
     "status": "completed"
    },
    "tags": []
   },
   "source": [
    "## Array creation\n"
   ]
  },
  {
   "cell_type": "code",
   "execution_count": 4,
   "id": "59d379b3",
   "metadata": {
    "execution": {
     "iopub.execute_input": "2023-12-14T11:43:32.701020Z",
     "iopub.status.busy": "2023-12-14T11:43:32.700620Z",
     "iopub.status.idle": "2023-12-14T11:43:32.709147Z",
     "shell.execute_reply": "2023-12-14T11:43:32.707855Z"
    },
    "papermill": {
     "duration": 0.020063,
     "end_time": "2023-12-14T11:43:32.711113",
     "exception": false,
     "start_time": "2023-12-14T11:43:32.691050",
     "status": "completed"
    },
    "tags": []
   },
   "outputs": [
    {
     "name": "stdout",
     "output_type": "stream",
     "text": [
      "range(0, 5)\n"
     ]
    },
    {
     "data": {
      "text/plain": [
       "0"
      ]
     },
     "execution_count": 4,
     "metadata": {},
     "output_type": "execute_result"
    }
   ],
   "source": [
    "l = range(0, 5)\n",
    "print(l)\n",
    "l[0]"
   ]
  },
  {
   "cell_type": "markdown",
   "id": "9e771b2f",
   "metadata": {
    "papermill": {
     "duration": 0.007474,
     "end_time": "2023-12-14T11:43:32.726605",
     "exception": false,
     "start_time": "2023-12-14T11:43:32.719131",
     "status": "completed"
    },
    "tags": []
   },
   "source": [
    "## Array creation or initialization"
   ]
  },
  {
   "cell_type": "code",
   "execution_count": 5,
   "id": "55ca32f9",
   "metadata": {
    "execution": {
     "iopub.execute_input": "2023-12-14T11:43:32.744392Z",
     "iopub.status.busy": "2023-12-14T11:43:32.743990Z",
     "iopub.status.idle": "2023-12-14T11:43:32.751208Z",
     "shell.execute_reply": "2023-12-14T11:43:32.749852Z"
    },
    "papermill": {
     "duration": 0.018791,
     "end_time": "2023-12-14T11:43:32.753751",
     "exception": false,
     "start_time": "2023-12-14T11:43:32.734960",
     "status": "completed"
    },
    "tags": []
   },
   "outputs": [
    {
     "name": "stdout",
     "output_type": "stream",
     "text": [
      "[1 2 3 4]\n",
      "[1 3]\n",
      "[1.         1.44444444 1.88888889 2.33333333 2.77777778 3.22222222\n",
      " 3.66666667 4.11111111 4.55555556 5.        ]\n"
     ]
    }
   ],
   "source": [
    "a = np.arange(1, 5)\n",
    "print(a)\n",
    "b = np.arange(1, 5, 2)\n",
    "print(b)\n",
    "c = np.linspace(1, 5, 10)\n",
    "print(c)"
   ]
  },
  {
   "cell_type": "markdown",
   "id": "30b222c1",
   "metadata": {
    "papermill": {
     "duration": 0.008605,
     "end_time": "2023-12-14T11:43:32.770515",
     "exception": false,
     "start_time": "2023-12-14T11:43:32.761910",
     "status": "completed"
    },
    "tags": []
   },
   "source": [
    "## Functions regarding shapes of array"
   ]
  },
  {
   "cell_type": "code",
   "execution_count": 6,
   "id": "d677fe0b",
   "metadata": {
    "execution": {
     "iopub.execute_input": "2023-12-14T11:43:32.789270Z",
     "iopub.status.busy": "2023-12-14T11:43:32.788565Z",
     "iopub.status.idle": "2023-12-14T11:43:32.793839Z",
     "shell.execute_reply": "2023-12-14T11:43:32.793123Z"
    },
    "papermill": {
     "duration": 0.016765,
     "end_time": "2023-12-14T11:43:32.795860",
     "exception": false,
     "start_time": "2023-12-14T11:43:32.779095",
     "status": "completed"
    },
    "tags": []
   },
   "outputs": [
    {
     "name": "stdout",
     "output_type": "stream",
     "text": [
      "[ 5  6  7  8  9 10]\n",
      "[[ 5  6]\n",
      " [ 7  8]\n",
      " [ 9 10]]\n"
     ]
    }
   ],
   "source": [
    "a = np.array([[5,6,7],[8,9,10]])\n",
    "print(a.ravel())\n",
    "print(a.reshape(3, 2))"
   ]
  },
  {
   "cell_type": "markdown",
   "id": "8be5c917",
   "metadata": {
    "papermill": {
     "duration": 0.008293,
     "end_time": "2023-12-14T11:43:32.812314",
     "exception": false,
     "start_time": "2023-12-14T11:43:32.804021",
     "status": "completed"
    },
    "tags": []
   },
   "source": [
    "## Functions of array"
   ]
  },
  {
   "cell_type": "code",
   "execution_count": 7,
   "id": "4ac1768b",
   "metadata": {
    "execution": {
     "iopub.execute_input": "2023-12-14T11:43:32.830289Z",
     "iopub.status.busy": "2023-12-14T11:43:32.829939Z",
     "iopub.status.idle": "2023-12-14T11:43:32.839043Z",
     "shell.execute_reply": "2023-12-14T11:43:32.837705Z"
    },
    "papermill": {
     "duration": 0.020424,
     "end_time": "2023-12-14T11:43:32.841222",
     "exception": false,
     "start_time": "2023-12-14T11:43:32.820798",
     "status": "completed"
    },
    "tags": []
   },
   "outputs": [
    {
     "name": "stdout",
     "output_type": "stream",
     "text": [
      "5\n",
      "10\n",
      "45\n",
      "[13 15 17]\n",
      "[18 27]\n",
      "[[2.23606798 2.44948974 2.64575131]\n",
      " [2.82842712 3.         3.16227766]]\n"
     ]
    }
   ],
   "source": [
    "a = np.array([[5,6,7],[8,9,10]])\n",
    "print(a.min())\n",
    "print(a.max())\n",
    "print(a.sum())\n",
    "print(a.sum(axis=0))\n",
    "print(a.sum(axis=1))\n",
    "print(np.sqrt(a))"
   ]
  },
  {
   "cell_type": "markdown",
   "id": "19c12813",
   "metadata": {
    "papermill": {
     "duration": 0.007755,
     "end_time": "2023-12-14T11:43:32.857316",
     "exception": false,
     "start_time": "2023-12-14T11:43:32.849561",
     "status": "completed"
    },
    "tags": []
   },
   "source": [
    "## Arithmatic operation on array"
   ]
  },
  {
   "cell_type": "code",
   "execution_count": 8,
   "id": "1fbcc99b",
   "metadata": {
    "execution": {
     "iopub.execute_input": "2023-12-14T11:43:32.876838Z",
     "iopub.status.busy": "2023-12-14T11:43:32.876206Z",
     "iopub.status.idle": "2023-12-14T11:43:32.882567Z",
     "shell.execute_reply": "2023-12-14T11:43:32.881401Z"
    },
    "papermill": {
     "duration": 0.018428,
     "end_time": "2023-12-14T11:43:32.884268",
     "exception": false,
     "start_time": "2023-12-14T11:43:32.865840",
     "status": "completed"
    },
    "tags": []
   },
   "outputs": [
    {
     "name": "stdout",
     "output_type": "stream",
     "text": [
      "[[10 12 14]\n",
      " [16 18 20]]\n",
      "[[ 25  36  49]\n",
      " [ 64  81 100]]\n",
      "[[1. 1. 1.]\n",
      " [1. 1. 1.]]\n",
      "[[110 164]\n",
      " [164 245]]\n"
     ]
    }
   ],
   "source": [
    "a = np.array([[5,6,7],[8,9,10]])\n",
    "b = np.array([[5,6,7],[8,9,10]])\n",
    "print(a+b)\n",
    "print(a*b)\n",
    "print(a/b)\n",
    "print(b.dot(a.T))"
   ]
  },
  {
   "cell_type": "markdown",
   "id": "2d22935a",
   "metadata": {
    "papermill": {
     "duration": 0.007748,
     "end_time": "2023-12-14T11:43:32.900314",
     "exception": false,
     "start_time": "2023-12-14T11:43:32.892566",
     "status": "completed"
    },
    "tags": []
   },
   "source": [
    "## Array Indexing & Slicing"
   ]
  },
  {
   "cell_type": "code",
   "execution_count": 9,
   "id": "f4094c52",
   "metadata": {
    "execution": {
     "iopub.execute_input": "2023-12-14T11:43:32.919184Z",
     "iopub.status.busy": "2023-12-14T11:43:32.917839Z",
     "iopub.status.idle": "2023-12-14T11:43:32.925038Z",
     "shell.execute_reply": "2023-12-14T11:43:32.924115Z"
    },
    "papermill": {
     "duration": 0.018228,
     "end_time": "2023-12-14T11:43:32.926810",
     "exception": false,
     "start_time": "2023-12-14T11:43:32.908582",
     "status": "completed"
    },
    "tags": []
   },
   "outputs": [
    {
     "data": {
      "text/plain": [
       "[6, 7]"
      ]
     },
     "execution_count": 9,
     "metadata": {},
     "output_type": "execute_result"
    }
   ],
   "source": [
    "# Python List\n",
    "n = [6, 7, 8]\n",
    "n[0:2]"
   ]
  },
  {
   "cell_type": "code",
   "execution_count": 10,
   "id": "1ea493ec",
   "metadata": {
    "execution": {
     "iopub.execute_input": "2023-12-14T11:43:32.945482Z",
     "iopub.status.busy": "2023-12-14T11:43:32.944920Z",
     "iopub.status.idle": "2023-12-14T11:43:32.950918Z",
     "shell.execute_reply": "2023-12-14T11:43:32.950133Z"
    },
    "papermill": {
     "duration": 0.017286,
     "end_time": "2023-12-14T11:43:32.952692",
     "exception": false,
     "start_time": "2023-12-14T11:43:32.935406",
     "status": "completed"
    },
    "tags": []
   },
   "outputs": [
    {
     "data": {
      "text/plain": [
       "array([6, 7])"
      ]
     },
     "execution_count": 10,
     "metadata": {},
     "output_type": "execute_result"
    }
   ],
   "source": [
    "# Numpy array\n",
    "a = np.array([6, 7, 8])\n",
    "a[0:2]"
   ]
  },
  {
   "cell_type": "code",
   "execution_count": 11,
   "id": "fa9bf4c1",
   "metadata": {
    "execution": {
     "iopub.execute_input": "2023-12-14T11:43:32.971136Z",
     "iopub.status.busy": "2023-12-14T11:43:32.970633Z",
     "iopub.status.idle": "2023-12-14T11:43:32.976067Z",
     "shell.execute_reply": "2023-12-14T11:43:32.975251Z"
    },
    "papermill": {
     "duration": 0.016632,
     "end_time": "2023-12-14T11:43:32.977752",
     "exception": false,
     "start_time": "2023-12-14T11:43:32.961120",
     "status": "completed"
    },
    "tags": []
   },
   "outputs": [
    {
     "data": {
      "text/plain": [
       "8"
      ]
     },
     "execution_count": 11,
     "metadata": {},
     "output_type": "execute_result"
    }
   ],
   "source": [
    "a[-1]"
   ]
  },
  {
   "cell_type": "code",
   "execution_count": 12,
   "id": "11e8db37",
   "metadata": {
    "execution": {
     "iopub.execute_input": "2023-12-14T11:43:32.997301Z",
     "iopub.status.busy": "2023-12-14T11:43:32.996761Z",
     "iopub.status.idle": "2023-12-14T11:43:33.004982Z",
     "shell.execute_reply": "2023-12-14T11:43:33.003421Z"
    },
    "papermill": {
     "duration": 0.020662,
     "end_time": "2023-12-14T11:43:33.007031",
     "exception": false,
     "start_time": "2023-12-14T11:43:32.986369",
     "status": "completed"
    },
    "tags": []
   },
   "outputs": [
    {
     "name": "stdout",
     "output_type": "stream",
     "text": [
      "[[1 2 3]\n",
      " [4 5 6]\n",
      " [7 8 9]]\n"
     ]
    },
    {
     "data": {
      "text/plain": [
       "6"
      ]
     },
     "execution_count": 12,
     "metadata": {},
     "output_type": "execute_result"
    }
   ],
   "source": [
    "a = np.array([[1, 2, 3], [4, 5, 6], [7, 8, 9]])\n",
    "print(a)\n",
    "a[1,2]"
   ]
  },
  {
   "cell_type": "code",
   "execution_count": 13,
   "id": "c317c4e9",
   "metadata": {
    "execution": {
     "iopub.execute_input": "2023-12-14T11:43:33.026561Z",
     "iopub.status.busy": "2023-12-14T11:43:33.026178Z",
     "iopub.status.idle": "2023-12-14T11:43:33.032419Z",
     "shell.execute_reply": "2023-12-14T11:43:33.031490Z"
    },
    "papermill": {
     "duration": 0.018066,
     "end_time": "2023-12-14T11:43:33.034173",
     "exception": false,
     "start_time": "2023-12-14T11:43:33.016107",
     "status": "completed"
    },
    "tags": []
   },
   "outputs": [
    {
     "data": {
      "text/plain": [
       "array([3, 6])"
      ]
     },
     "execution_count": 13,
     "metadata": {},
     "output_type": "execute_result"
    }
   ],
   "source": [
    "# row 0 to 1 and col 2 will be printed\n",
    "a[0:2, 2]"
   ]
  },
  {
   "cell_type": "code",
   "execution_count": 14,
   "id": "4c466e02",
   "metadata": {
    "execution": {
     "iopub.execute_input": "2023-12-14T11:43:33.111172Z",
     "iopub.status.busy": "2023-12-14T11:43:33.110564Z",
     "iopub.status.idle": "2023-12-14T11:43:33.115553Z",
     "shell.execute_reply": "2023-12-14T11:43:33.114870Z"
    },
    "papermill": {
     "duration": 0.017131,
     "end_time": "2023-12-14T11:43:33.117734",
     "exception": false,
     "start_time": "2023-12-14T11:43:33.100603",
     "status": "completed"
    },
    "tags": []
   },
   "outputs": [
    {
     "data": {
      "text/plain": [
       "array([7, 8, 9])"
      ]
     },
     "execution_count": 14,
     "metadata": {},
     "output_type": "execute_result"
    }
   ],
   "source": [
    "a[-1]"
   ]
  },
  {
   "cell_type": "code",
   "execution_count": 15,
   "id": "5dc6234d",
   "metadata": {
    "execution": {
     "iopub.execute_input": "2023-12-14T11:43:33.139069Z",
     "iopub.status.busy": "2023-12-14T11:43:33.138422Z",
     "iopub.status.idle": "2023-12-14T11:43:33.143539Z",
     "shell.execute_reply": "2023-12-14T11:43:33.142911Z"
    },
    "papermill": {
     "duration": 0.017774,
     "end_time": "2023-12-14T11:43:33.145162",
     "exception": false,
     "start_time": "2023-12-14T11:43:33.127388",
     "status": "completed"
    },
    "tags": []
   },
   "outputs": [
    {
     "data": {
      "text/plain": [
       "array([7, 8])"
      ]
     },
     "execution_count": 15,
     "metadata": {},
     "output_type": "execute_result"
    }
   ],
   "source": [
    "a[-1, 0:2]"
   ]
  },
  {
   "cell_type": "code",
   "execution_count": 16,
   "id": "776807ee",
   "metadata": {
    "execution": {
     "iopub.execute_input": "2023-12-14T11:43:33.165734Z",
     "iopub.status.busy": "2023-12-14T11:43:33.165201Z",
     "iopub.status.idle": "2023-12-14T11:43:33.171801Z",
     "shell.execute_reply": "2023-12-14T11:43:33.170188Z"
    },
    "papermill": {
     "duration": 0.019609,
     "end_time": "2023-12-14T11:43:33.174289",
     "exception": false,
     "start_time": "2023-12-14T11:43:33.154680",
     "status": "completed"
    },
    "tags": []
   },
   "outputs": [
    {
     "data": {
      "text/plain": [
       "array([[2],\n",
       "       [5],\n",
       "       [8]])"
      ]
     },
     "execution_count": 16,
     "metadata": {},
     "output_type": "execute_result"
    }
   ],
   "source": [
    "# more clear a[0:3, 1:2] and same\n",
    "a[:, 1:2]"
   ]
  },
  {
   "cell_type": "markdown",
   "id": "05ae0108",
   "metadata": {
    "papermill": {
     "duration": 0.008533,
     "end_time": "2023-12-14T11:43:33.192024",
     "exception": false,
     "start_time": "2023-12-14T11:43:33.183491",
     "status": "completed"
    },
    "tags": []
   },
   "source": [
    "## Iterating through numpy array"
   ]
  },
  {
   "cell_type": "code",
   "execution_count": 17,
   "id": "f71be3ec",
   "metadata": {
    "execution": {
     "iopub.execute_input": "2023-12-14T11:43:33.211670Z",
     "iopub.status.busy": "2023-12-14T11:43:33.211243Z",
     "iopub.status.idle": "2023-12-14T11:43:33.217315Z",
     "shell.execute_reply": "2023-12-14T11:43:33.215902Z"
    },
    "papermill": {
     "duration": 0.018983,
     "end_time": "2023-12-14T11:43:33.219781",
     "exception": false,
     "start_time": "2023-12-14T11:43:33.200798",
     "status": "completed"
    },
    "tags": []
   },
   "outputs": [
    {
     "name": "stdout",
     "output_type": "stream",
     "text": [
      "[1 2 3]\n",
      "[4 5 6]\n",
      "[7 8 9]\n"
     ]
    }
   ],
   "source": [
    "for row in a:\n",
    "    print(row)"
   ]
  },
  {
   "cell_type": "code",
   "execution_count": 18,
   "id": "d5fb7f02",
   "metadata": {
    "execution": {
     "iopub.execute_input": "2023-12-14T11:43:33.240786Z",
     "iopub.status.busy": "2023-12-14T11:43:33.240378Z",
     "iopub.status.idle": "2023-12-14T11:43:33.245233Z",
     "shell.execute_reply": "2023-12-14T11:43:33.244141Z"
    },
    "papermill": {
     "duration": 0.01793,
     "end_time": "2023-12-14T11:43:33.247333",
     "exception": false,
     "start_time": "2023-12-14T11:43:33.229403",
     "status": "completed"
    },
    "tags": []
   },
   "outputs": [
    {
     "name": "stdout",
     "output_type": "stream",
     "text": [
      "1\n",
      "2\n",
      "3\n",
      "4\n",
      "5\n",
      "6\n",
      "7\n",
      "8\n",
      "9\n"
     ]
    }
   ],
   "source": [
    "for cell in a.flat:\n",
    "    print(cell)"
   ]
  },
  {
   "cell_type": "markdown",
   "id": "d2ab0462",
   "metadata": {
    "papermill": {
     "duration": 0.008397,
     "end_time": "2023-12-14T11:43:33.264817",
     "exception": false,
     "start_time": "2023-12-14T11:43:33.256420",
     "status": "completed"
    },
    "tags": []
   },
   "source": [
    "## Stacking two arrays"
   ]
  },
  {
   "cell_type": "code",
   "execution_count": 19,
   "id": "26324d8d",
   "metadata": {
    "execution": {
     "iopub.execute_input": "2023-12-14T11:43:33.284759Z",
     "iopub.status.busy": "2023-12-14T11:43:33.283777Z",
     "iopub.status.idle": "2023-12-14T11:43:33.290299Z",
     "shell.execute_reply": "2023-12-14T11:43:33.288887Z"
    },
    "papermill": {
     "duration": 0.018777,
     "end_time": "2023-12-14T11:43:33.292487",
     "exception": false,
     "start_time": "2023-12-14T11:43:33.273710",
     "status": "completed"
    },
    "tags": []
   },
   "outputs": [
    {
     "name": "stdout",
     "output_type": "stream",
     "text": [
      "[[0 1]\n",
      " [2 3]\n",
      " [4 5]]\n",
      "[[ 6  7]\n",
      " [ 8  9]\n",
      " [10 11]]\n"
     ]
    }
   ],
   "source": [
    "a = np.arange(6).reshape(3,2)\n",
    "b = np.arange(6,12).reshape(3,2)\n",
    "print(a)\n",
    "print(b)"
   ]
  },
  {
   "cell_type": "code",
   "execution_count": 20,
   "id": "d8553080",
   "metadata": {
    "execution": {
     "iopub.execute_input": "2023-12-14T11:43:33.311897Z",
     "iopub.status.busy": "2023-12-14T11:43:33.311560Z",
     "iopub.status.idle": "2023-12-14T11:43:33.319921Z",
     "shell.execute_reply": "2023-12-14T11:43:33.318535Z"
    },
    "papermill": {
     "duration": 0.021036,
     "end_time": "2023-12-14T11:43:33.322550",
     "exception": false,
     "start_time": "2023-12-14T11:43:33.301514",
     "status": "completed"
    },
    "tags": []
   },
   "outputs": [
    {
     "data": {
      "text/plain": [
       "array([[ 0,  1],\n",
       "       [ 2,  3],\n",
       "       [ 4,  5],\n",
       "       [ 6,  7],\n",
       "       [ 8,  9],\n",
       "       [10, 11]])"
      ]
     },
     "execution_count": 20,
     "metadata": {},
     "output_type": "execute_result"
    }
   ],
   "source": [
    "np.vstack((a,b))"
   ]
  },
  {
   "cell_type": "code",
   "execution_count": 21,
   "id": "dcf36111",
   "metadata": {
    "execution": {
     "iopub.execute_input": "2023-12-14T11:43:33.344254Z",
     "iopub.status.busy": "2023-12-14T11:43:33.343832Z",
     "iopub.status.idle": "2023-12-14T11:43:33.349935Z",
     "shell.execute_reply": "2023-12-14T11:43:33.349112Z"
    },
    "papermill": {
     "duration": 0.019708,
     "end_time": "2023-12-14T11:43:33.351938",
     "exception": false,
     "start_time": "2023-12-14T11:43:33.332230",
     "status": "completed"
    },
    "tags": []
   },
   "outputs": [
    {
     "data": {
      "text/plain": [
       "array([[ 0,  1,  6,  7],\n",
       "       [ 2,  3,  8,  9],\n",
       "       [ 4,  5, 10, 11]])"
      ]
     },
     "execution_count": 21,
     "metadata": {},
     "output_type": "execute_result"
    }
   ],
   "source": [
    "np.hstack((a,b))"
   ]
  },
  {
   "cell_type": "markdown",
   "id": "03d9f3a4",
   "metadata": {
    "papermill": {
     "duration": 0.008959,
     "end_time": "2023-12-14T11:43:33.370543",
     "exception": false,
     "start_time": "2023-12-14T11:43:33.361584",
     "status": "completed"
    },
    "tags": []
   },
   "source": [
    "## Spliting array"
   ]
  },
  {
   "cell_type": "code",
   "execution_count": 22,
   "id": "ce5c05cd",
   "metadata": {
    "execution": {
     "iopub.execute_input": "2023-12-14T11:43:33.391153Z",
     "iopub.status.busy": "2023-12-14T11:43:33.390829Z",
     "iopub.status.idle": "2023-12-14T11:43:33.398900Z",
     "shell.execute_reply": "2023-12-14T11:43:33.397351Z"
    },
    "papermill": {
     "duration": 0.021733,
     "end_time": "2023-12-14T11:43:33.401674",
     "exception": false,
     "start_time": "2023-12-14T11:43:33.379941",
     "status": "completed"
    },
    "tags": []
   },
   "outputs": [
    {
     "data": {
      "text/plain": [
       "array([[ 0,  1,  2,  3,  4,  5,  6,  7,  8,  9, 10, 11, 12, 13, 14],\n",
       "       [15, 16, 17, 18, 19, 20, 21, 22, 23, 24, 25, 26, 27, 28, 29]])"
      ]
     },
     "execution_count": 22,
     "metadata": {},
     "output_type": "execute_result"
    }
   ],
   "source": [
    "a = np.arange(30).reshape(2, 15)\n",
    "a"
   ]
  },
  {
   "cell_type": "code",
   "execution_count": 23,
   "id": "8745b100",
   "metadata": {
    "execution": {
     "iopub.execute_input": "2023-12-14T11:43:33.423178Z",
     "iopub.status.busy": "2023-12-14T11:43:33.422822Z",
     "iopub.status.idle": "2023-12-14T11:43:33.429775Z",
     "shell.execute_reply": "2023-12-14T11:43:33.428915Z"
    },
    "papermill": {
     "duration": 0.02051,
     "end_time": "2023-12-14T11:43:33.432216",
     "exception": false,
     "start_time": "2023-12-14T11:43:33.411706",
     "status": "completed"
    },
    "tags": []
   },
   "outputs": [
    {
     "data": {
      "text/plain": [
       "[array([[ 0,  1,  2,  3,  4],\n",
       "        [15, 16, 17, 18, 19]]),\n",
       " array([[ 5,  6,  7,  8,  9],\n",
       "        [20, 21, 22, 23, 24]]),\n",
       " array([[10, 11, 12, 13, 14],\n",
       "        [25, 26, 27, 28, 29]])]"
      ]
     },
     "execution_count": 23,
     "metadata": {},
     "output_type": "execute_result"
    }
   ],
   "source": [
    "np.hsplit(a,3)"
   ]
  },
  {
   "cell_type": "code",
   "execution_count": 24,
   "id": "f4d84cd4",
   "metadata": {
    "execution": {
     "iopub.execute_input": "2023-12-14T11:43:33.453221Z",
     "iopub.status.busy": "2023-12-14T11:43:33.452832Z",
     "iopub.status.idle": "2023-12-14T11:43:33.457991Z",
     "shell.execute_reply": "2023-12-14T11:43:33.456896Z"
    },
    "papermill": {
     "duration": 0.018405,
     "end_time": "2023-12-14T11:43:33.460437",
     "exception": false,
     "start_time": "2023-12-14T11:43:33.442032",
     "status": "completed"
    },
    "tags": []
   },
   "outputs": [],
   "source": [
    "result = np.hsplit(a, 3)"
   ]
  },
  {
   "cell_type": "code",
   "execution_count": 25,
   "id": "4445bb4a",
   "metadata": {
    "execution": {
     "iopub.execute_input": "2023-12-14T11:43:33.482994Z",
     "iopub.status.busy": "2023-12-14T11:43:33.481972Z",
     "iopub.status.idle": "2023-12-14T11:43:33.488305Z",
     "shell.execute_reply": "2023-12-14T11:43:33.487462Z"
    },
    "papermill": {
     "duration": 0.019632,
     "end_time": "2023-12-14T11:43:33.490110",
     "exception": false,
     "start_time": "2023-12-14T11:43:33.470478",
     "status": "completed"
    },
    "tags": []
   },
   "outputs": [
    {
     "data": {
      "text/plain": [
       "array([[ 0,  1,  2,  3,  4],\n",
       "       [15, 16, 17, 18, 19]])"
      ]
     },
     "execution_count": 25,
     "metadata": {},
     "output_type": "execute_result"
    }
   ],
   "source": [
    "result[0]"
   ]
  },
  {
   "cell_type": "code",
   "execution_count": 26,
   "id": "3902622c",
   "metadata": {
    "execution": {
     "iopub.execute_input": "2023-12-14T11:43:33.512481Z",
     "iopub.status.busy": "2023-12-14T11:43:33.512078Z",
     "iopub.status.idle": "2023-12-14T11:43:33.517670Z",
     "shell.execute_reply": "2023-12-14T11:43:33.516889Z"
    },
    "papermill": {
     "duration": 0.019339,
     "end_time": "2023-12-14T11:43:33.520017",
     "exception": false,
     "start_time": "2023-12-14T11:43:33.500678",
     "status": "completed"
    },
    "tags": []
   },
   "outputs": [
    {
     "data": {
      "text/plain": [
       "array([[ 5,  6,  7,  8,  9],\n",
       "       [20, 21, 22, 23, 24]])"
      ]
     },
     "execution_count": 26,
     "metadata": {},
     "output_type": "execute_result"
    }
   ],
   "source": [
    "result[1]"
   ]
  },
  {
   "cell_type": "code",
   "execution_count": 27,
   "id": "c96c112d",
   "metadata": {
    "execution": {
     "iopub.execute_input": "2023-12-14T11:43:33.542260Z",
     "iopub.status.busy": "2023-12-14T11:43:33.541939Z",
     "iopub.status.idle": "2023-12-14T11:43:33.548103Z",
     "shell.execute_reply": "2023-12-14T11:43:33.546897Z"
    },
    "papermill": {
     "duration": 0.019988,
     "end_time": "2023-12-14T11:43:33.550169",
     "exception": false,
     "start_time": "2023-12-14T11:43:33.530181",
     "status": "completed"
    },
    "tags": []
   },
   "outputs": [
    {
     "data": {
      "text/plain": [
       "array([[10, 11, 12, 13, 14],\n",
       "       [25, 26, 27, 28, 29]])"
      ]
     },
     "execution_count": 27,
     "metadata": {},
     "output_type": "execute_result"
    }
   ],
   "source": [
    "result[2]"
   ]
  },
  {
   "cell_type": "code",
   "execution_count": 28,
   "id": "520ef62a",
   "metadata": {
    "execution": {
     "iopub.execute_input": "2023-12-14T11:43:33.572113Z",
     "iopub.status.busy": "2023-12-14T11:43:33.571771Z",
     "iopub.status.idle": "2023-12-14T11:43:33.579305Z",
     "shell.execute_reply": "2023-12-14T11:43:33.577830Z"
    },
    "papermill": {
     "duration": 0.021846,
     "end_time": "2023-12-14T11:43:33.582130",
     "exception": false,
     "start_time": "2023-12-14T11:43:33.560284",
     "status": "completed"
    },
    "tags": []
   },
   "outputs": [
    {
     "data": {
      "text/plain": [
       "[array([[ 0,  1,  2,  3,  4,  5,  6,  7,  8,  9, 10, 11, 12, 13, 14]]),\n",
       " array([[15, 16, 17, 18, 19, 20, 21, 22, 23, 24, 25, 26, 27, 28, 29]])]"
      ]
     },
     "execution_count": 28,
     "metadata": {},
     "output_type": "execute_result"
    }
   ],
   "source": [
    "np.vsplit(a,2)"
   ]
  },
  {
   "cell_type": "code",
   "execution_count": null,
   "id": "0b22fca9",
   "metadata": {
    "papermill": {
     "duration": 0.010152,
     "end_time": "2023-12-14T11:43:33.602941",
     "exception": false,
     "start_time": "2023-12-14T11:43:33.592789",
     "status": "completed"
    },
    "tags": []
   },
   "outputs": [],
   "source": []
  }
 ],
 "metadata": {
  "kaggle": {
   "accelerator": "none",
   "dataSources": [],
   "dockerImageVersionId": 30615,
   "isGpuEnabled": false,
   "isInternetEnabled": true,
   "language": "python",
   "sourceType": "notebook"
  },
  "kernelspec": {
   "display_name": "Python 3",
   "language": "python",
   "name": "python3"
  },
  "language_info": {
   "codemirror_mode": {
    "name": "ipython",
    "version": 3
   },
   "file_extension": ".py",
   "mimetype": "text/x-python",
   "name": "python",
   "nbconvert_exporter": "python",
   "pygments_lexer": "ipython3",
   "version": "3.10.12"
  },
  "papermill": {
   "default_parameters": {},
   "duration": 4.483608,
   "end_time": "2023-12-14T11:43:33.934676",
   "environment_variables": {},
   "exception": null,
   "input_path": "__notebook__.ipynb",
   "output_path": "__notebook__.ipynb",
   "parameters": {},
   "start_time": "2023-12-14T11:43:29.451068",
   "version": "2.4.0"
  }
 },
 "nbformat": 4,
 "nbformat_minor": 5
}
