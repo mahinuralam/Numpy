{
 "cells": [
  {
   "cell_type": "markdown",
   "id": "1f02219d",
   "metadata": {
    "_cell_guid": "b1076dfc-b9ad-4769-8c92-a6c4dae69d19",
    "_uuid": "8f2839f25d086af736a60e9eeb907d3b93b6e0e5",
    "papermill": {
     "duration": 0.016875,
     "end_time": "2023-12-14T15:45:17.337566",
     "exception": false,
     "start_time": "2023-12-14T15:45:17.320691",
     "status": "completed"
    },
    "tags": []
   },
   "source": [
    "# This Python 3 environment comes with many helpful analytics libraries installed\n",
    "# It is defined by the kaggle/python Docker image: https://github.com/kaggle/docker-python\n",
    "# For example, here's several helpful packages to load\n",
    "\n",
    "import numpy as np # linear algebra\n",
    "import pandas as pd # data processing, CSV file I/O (e.g. pd.read_csv)\n",
    "\n",
    "# Input data files are available in the read-only \"../input/\" directory\n",
    "# For example, running this (by clicking run or pressing Shift+Enter) will list all files under the input directory\n",
    "\n",
    "import os\n",
    "for dirname, _, filenames in os.walk('/kaggle/input'):\n",
    "    for filename in filenames:\n",
    "        print(os.path.join(dirname, filename))\n",
    "\n",
    "# You can write up to 20GB to the current directory (/kaggle/working/) that gets preserved as output when you create a version using \"Save & Run All\" \n",
    "# You can also write temporary files to /kaggle/temp/, but they won't be saved outside of the current session"
   ]
  },
  {
   "cell_type": "code",
   "execution_count": 1,
   "id": "89689dba",
   "metadata": {
    "execution": {
     "iopub.execute_input": "2023-12-14T15:45:17.375275Z",
     "iopub.status.busy": "2023-12-14T15:45:17.374297Z",
     "iopub.status.idle": "2023-12-14T15:45:17.388566Z",
     "shell.execute_reply": "2023-12-14T15:45:17.387615Z"
    },
    "papermill": {
     "duration": 0.03647,
     "end_time": "2023-12-14T15:45:17.391610",
     "exception": false,
     "start_time": "2023-12-14T15:45:17.355140",
     "status": "completed"
    },
    "tags": []
   },
   "outputs": [],
   "source": [
    "import numpy as np"
   ]
  },
  {
   "cell_type": "markdown",
   "id": "a4f5cf98",
   "metadata": {
    "papermill": {
     "duration": 0.016,
     "end_time": "2023-12-14T15:45:17.424005",
     "exception": false,
     "start_time": "2023-12-14T15:45:17.408005",
     "status": "completed"
    },
    "tags": []
   },
   "source": [
    "## Array related functions"
   ]
  },
  {
   "cell_type": "code",
   "execution_count": 2,
   "id": "53a2ac0c",
   "metadata": {
    "execution": {
     "iopub.execute_input": "2023-12-14T15:45:17.459443Z",
     "iopub.status.busy": "2023-12-14T15:45:17.458668Z",
     "iopub.status.idle": "2023-12-14T15:45:17.473725Z",
     "shell.execute_reply": "2023-12-14T15:45:17.472442Z"
    },
    "papermill": {
     "duration": 0.036279,
     "end_time": "2023-12-14T15:45:17.476490",
     "exception": false,
     "start_time": "2023-12-14T15:45:17.440211",
     "status": "completed"
    },
    "tags": []
   },
   "outputs": [
    {
     "name": "stdout",
     "output_type": "stream",
     "text": [
      "5\n",
      "1\n",
      "8\n"
     ]
    },
    {
     "data": {
      "text/plain": [
       "array([[1., 1., 1.],\n",
       "       [1., 1., 1.]])"
      ]
     },
     "execution_count": 2,
     "metadata": {},
     "output_type": "execute_result"
    }
   ],
   "source": [
    "a = np.array([5,6,7])\n",
    "print(a[0])\n",
    "print(a.ndim)\n",
    "print(a.itemsize)\n",
    "np.zeros( (2,3) )\n",
    "np.ones( (2,3) )"
   ]
  },
  {
   "cell_type": "markdown",
   "id": "045ceaa3",
   "metadata": {
    "papermill": {
     "duration": 0.017331,
     "end_time": "2023-12-14T15:45:17.510414",
     "exception": false,
     "start_time": "2023-12-14T15:45:17.493083",
     "status": "completed"
    },
    "tags": []
   },
   "source": [
    "## Array realted functions"
   ]
  },
  {
   "cell_type": "code",
   "execution_count": 3,
   "id": "7165dde5",
   "metadata": {
    "execution": {
     "iopub.execute_input": "2023-12-14T15:45:17.544988Z",
     "iopub.status.busy": "2023-12-14T15:45:17.544479Z",
     "iopub.status.idle": "2023-12-14T15:45:17.554763Z",
     "shell.execute_reply": "2023-12-14T15:45:17.553250Z"
    },
    "papermill": {
     "duration": 0.03129,
     "end_time": "2023-12-14T15:45:17.557987",
     "exception": false,
     "start_time": "2023-12-14T15:45:17.526697",
     "status": "completed"
    },
    "tags": []
   },
   "outputs": [
    {
     "name": "stdout",
     "output_type": "stream",
     "text": [
      "[5.+0.j 6.+0.j 7.+0.j]\n",
      "2\n",
      "16\n",
      "complex128\n",
      "[[ 5.+0.j  6.+0.j  7.+0.j]\n",
      " [ 8.+0.j  9.+0.j 10.+0.j]]\n",
      "6\n",
      "(2, 3)\n"
     ]
    }
   ],
   "source": [
    "a = np.array([[5,6,7],[8,9,10]], dtype=complex)\n",
    "print(a[0])\n",
    "print(a.ndim)\n",
    "print(a.itemsize)\n",
    "print(a.dtype)\n",
    "print(a)\n",
    "print(a.size)\n",
    "print(a.shape)\n"
   ]
  },
  {
   "cell_type": "markdown",
   "id": "268b9655",
   "metadata": {
    "papermill": {
     "duration": 0.016065,
     "end_time": "2023-12-14T15:45:17.590897",
     "exception": false,
     "start_time": "2023-12-14T15:45:17.574832",
     "status": "completed"
    },
    "tags": []
   },
   "source": [
    "## Array creation\n"
   ]
  },
  {
   "cell_type": "code",
   "execution_count": 4,
   "id": "8e46d79d",
   "metadata": {
    "execution": {
     "iopub.execute_input": "2023-12-14T15:45:17.626206Z",
     "iopub.status.busy": "2023-12-14T15:45:17.625714Z",
     "iopub.status.idle": "2023-12-14T15:45:17.634246Z",
     "shell.execute_reply": "2023-12-14T15:45:17.632603Z"
    },
    "papermill": {
     "duration": 0.029769,
     "end_time": "2023-12-14T15:45:17.636838",
     "exception": false,
     "start_time": "2023-12-14T15:45:17.607069",
     "status": "completed"
    },
    "tags": []
   },
   "outputs": [
    {
     "name": "stdout",
     "output_type": "stream",
     "text": [
      "range(0, 5)\n"
     ]
    },
    {
     "data": {
      "text/plain": [
       "0"
      ]
     },
     "execution_count": 4,
     "metadata": {},
     "output_type": "execute_result"
    }
   ],
   "source": [
    "l = range(0, 5)\n",
    "print(l)\n",
    "l[0]"
   ]
  },
  {
   "cell_type": "markdown",
   "id": "9c64fda6",
   "metadata": {
    "papermill": {
     "duration": 0.016177,
     "end_time": "2023-12-14T15:45:17.669784",
     "exception": false,
     "start_time": "2023-12-14T15:45:17.653607",
     "status": "completed"
    },
    "tags": []
   },
   "source": [
    "## Array creation or initialization"
   ]
  },
  {
   "cell_type": "code",
   "execution_count": 5,
   "id": "fcb530dd",
   "metadata": {
    "execution": {
     "iopub.execute_input": "2023-12-14T15:45:17.705541Z",
     "iopub.status.busy": "2023-12-14T15:45:17.704233Z",
     "iopub.status.idle": "2023-12-14T15:45:17.713582Z",
     "shell.execute_reply": "2023-12-14T15:45:17.712105Z"
    },
    "papermill": {
     "duration": 0.030426,
     "end_time": "2023-12-14T15:45:17.716584",
     "exception": false,
     "start_time": "2023-12-14T15:45:17.686158",
     "status": "completed"
    },
    "tags": []
   },
   "outputs": [
    {
     "name": "stdout",
     "output_type": "stream",
     "text": [
      "[1 2 3 4]\n",
      "[1 3]\n",
      "[1.         1.44444444 1.88888889 2.33333333 2.77777778 3.22222222\n",
      " 3.66666667 4.11111111 4.55555556 5.        ]\n"
     ]
    }
   ],
   "source": [
    "a = np.arange(1, 5)\n",
    "print(a)\n",
    "b = np.arange(1, 5, 2)\n",
    "print(b)\n",
    "c = np.linspace(1, 5, 10)\n",
    "print(c)"
   ]
  },
  {
   "cell_type": "markdown",
   "id": "ddbb562b",
   "metadata": {
    "papermill": {
     "duration": 0.016894,
     "end_time": "2023-12-14T15:45:17.751130",
     "exception": false,
     "start_time": "2023-12-14T15:45:17.734236",
     "status": "completed"
    },
    "tags": []
   },
   "source": [
    "## Functions regarding shapes of array"
   ]
  },
  {
   "cell_type": "code",
   "execution_count": 6,
   "id": "bc84dd2e",
   "metadata": {
    "execution": {
     "iopub.execute_input": "2023-12-14T15:45:17.862127Z",
     "iopub.status.busy": "2023-12-14T15:45:17.861651Z",
     "iopub.status.idle": "2023-12-14T15:45:17.868857Z",
     "shell.execute_reply": "2023-12-14T15:45:17.867695Z"
    },
    "papermill": {
     "duration": 0.02795,
     "end_time": "2023-12-14T15:45:17.871481",
     "exception": false,
     "start_time": "2023-12-14T15:45:17.843531",
     "status": "completed"
    },
    "tags": []
   },
   "outputs": [
    {
     "name": "stdout",
     "output_type": "stream",
     "text": [
      "[ 5  6  7  8  9 10]\n",
      "[[ 5  6]\n",
      " [ 7  8]\n",
      " [ 9 10]]\n"
     ]
    }
   ],
   "source": [
    "a = np.array([[5,6,7],[8,9,10]])\n",
    "print(a.ravel())\n",
    "print(a.reshape(3, 2))"
   ]
  },
  {
   "cell_type": "markdown",
   "id": "b7c36ee9",
   "metadata": {
    "papermill": {
     "duration": 0.016354,
     "end_time": "2023-12-14T15:45:17.904471",
     "exception": false,
     "start_time": "2023-12-14T15:45:17.888117",
     "status": "completed"
    },
    "tags": []
   },
   "source": [
    "## Functions of array"
   ]
  },
  {
   "cell_type": "code",
   "execution_count": 7,
   "id": "f0312cac",
   "metadata": {
    "execution": {
     "iopub.execute_input": "2023-12-14T15:45:17.939933Z",
     "iopub.status.busy": "2023-12-14T15:45:17.939498Z",
     "iopub.status.idle": "2023-12-14T15:45:17.950563Z",
     "shell.execute_reply": "2023-12-14T15:45:17.948870Z"
    },
    "papermill": {
     "duration": 0.032374,
     "end_time": "2023-12-14T15:45:17.953591",
     "exception": false,
     "start_time": "2023-12-14T15:45:17.921217",
     "status": "completed"
    },
    "tags": []
   },
   "outputs": [
    {
     "name": "stdout",
     "output_type": "stream",
     "text": [
      "5\n",
      "10\n",
      "45\n",
      "[13 15 17]\n",
      "[18 27]\n",
      "[[2.23606798 2.44948974 2.64575131]\n",
      " [2.82842712 3.         3.16227766]]\n"
     ]
    }
   ],
   "source": [
    "a = np.array([[5,6,7],[8,9,10]])\n",
    "print(a.min())\n",
    "print(a.max())\n",
    "print(a.sum())\n",
    "print(a.sum(axis=0))\n",
    "print(a.sum(axis=1))\n",
    "print(np.sqrt(a))"
   ]
  },
  {
   "cell_type": "markdown",
   "id": "6dcc0088",
   "metadata": {
    "papermill": {
     "duration": 0.016421,
     "end_time": "2023-12-14T15:45:17.987024",
     "exception": false,
     "start_time": "2023-12-14T15:45:17.970603",
     "status": "completed"
    },
    "tags": []
   },
   "source": [
    "## Arithmatic operation on array"
   ]
  },
  {
   "cell_type": "code",
   "execution_count": 8,
   "id": "6aa2e1bb",
   "metadata": {
    "execution": {
     "iopub.execute_input": "2023-12-14T15:45:18.022943Z",
     "iopub.status.busy": "2023-12-14T15:45:18.022526Z",
     "iopub.status.idle": "2023-12-14T15:45:18.032010Z",
     "shell.execute_reply": "2023-12-14T15:45:18.030573Z"
    },
    "papermill": {
     "duration": 0.0307,
     "end_time": "2023-12-14T15:45:18.034576",
     "exception": false,
     "start_time": "2023-12-14T15:45:18.003876",
     "status": "completed"
    },
    "tags": []
   },
   "outputs": [
    {
     "name": "stdout",
     "output_type": "stream",
     "text": [
      "[[10 12 14]\n",
      " [16 18 20]]\n",
      "[[ 25  36  49]\n",
      " [ 64  81 100]]\n",
      "[[1. 1. 1.]\n",
      " [1. 1. 1.]]\n",
      "[[110 164]\n",
      " [164 245]]\n"
     ]
    }
   ],
   "source": [
    "a = np.array([[5,6,7],[8,9,10]])\n",
    "b = np.array([[5,6,7],[8,9,10]])\n",
    "print(a+b)\n",
    "print(a*b)\n",
    "print(a/b)\n",
    "print(b.dot(a.T))"
   ]
  },
  {
   "cell_type": "markdown",
   "id": "33441e7f",
   "metadata": {
    "papermill": {
     "duration": 0.016963,
     "end_time": "2023-12-14T15:45:18.068709",
     "exception": false,
     "start_time": "2023-12-14T15:45:18.051746",
     "status": "completed"
    },
    "tags": []
   },
   "source": [
    "## Array Indexing & Slicing"
   ]
  },
  {
   "cell_type": "code",
   "execution_count": 9,
   "id": "4f17fefe",
   "metadata": {
    "execution": {
     "iopub.execute_input": "2023-12-14T15:45:18.105307Z",
     "iopub.status.busy": "2023-12-14T15:45:18.104865Z",
     "iopub.status.idle": "2023-12-14T15:45:18.113257Z",
     "shell.execute_reply": "2023-12-14T15:45:18.111376Z"
    },
    "papermill": {
     "duration": 0.030101,
     "end_time": "2023-12-14T15:45:18.116241",
     "exception": false,
     "start_time": "2023-12-14T15:45:18.086140",
     "status": "completed"
    },
    "tags": []
   },
   "outputs": [
    {
     "data": {
      "text/plain": [
       "[6, 7]"
      ]
     },
     "execution_count": 9,
     "metadata": {},
     "output_type": "execute_result"
    }
   ],
   "source": [
    "# Python List\n",
    "n = [6, 7, 8]\n",
    "n[0:2]"
   ]
  },
  {
   "cell_type": "code",
   "execution_count": 10,
   "id": "9d0453ef",
   "metadata": {
    "execution": {
     "iopub.execute_input": "2023-12-14T15:45:18.153391Z",
     "iopub.status.busy": "2023-12-14T15:45:18.152949Z",
     "iopub.status.idle": "2023-12-14T15:45:18.161447Z",
     "shell.execute_reply": "2023-12-14T15:45:18.159952Z"
    },
    "papermill": {
     "duration": 0.030284,
     "end_time": "2023-12-14T15:45:18.163951",
     "exception": false,
     "start_time": "2023-12-14T15:45:18.133667",
     "status": "completed"
    },
    "tags": []
   },
   "outputs": [
    {
     "data": {
      "text/plain": [
       "array([6, 7])"
      ]
     },
     "execution_count": 10,
     "metadata": {},
     "output_type": "execute_result"
    }
   ],
   "source": [
    "# Numpy array\n",
    "a = np.array([6, 7, 8])\n",
    "a[0:2]"
   ]
  },
  {
   "cell_type": "code",
   "execution_count": 11,
   "id": "39744d2d",
   "metadata": {
    "execution": {
     "iopub.execute_input": "2023-12-14T15:45:18.204041Z",
     "iopub.status.busy": "2023-12-14T15:45:18.203639Z",
     "iopub.status.idle": "2023-12-14T15:45:18.212032Z",
     "shell.execute_reply": "2023-12-14T15:45:18.210296Z"
    },
    "papermill": {
     "duration": 0.031898,
     "end_time": "2023-12-14T15:45:18.214520",
     "exception": false,
     "start_time": "2023-12-14T15:45:18.182622",
     "status": "completed"
    },
    "tags": []
   },
   "outputs": [
    {
     "data": {
      "text/plain": [
       "8"
      ]
     },
     "execution_count": 11,
     "metadata": {},
     "output_type": "execute_result"
    }
   ],
   "source": [
    "a[-1]"
   ]
  },
  {
   "cell_type": "code",
   "execution_count": 12,
   "id": "354ba575",
   "metadata": {
    "execution": {
     "iopub.execute_input": "2023-12-14T15:45:18.254401Z",
     "iopub.status.busy": "2023-12-14T15:45:18.253957Z",
     "iopub.status.idle": "2023-12-14T15:45:18.263160Z",
     "shell.execute_reply": "2023-12-14T15:45:18.261947Z"
    },
    "papermill": {
     "duration": 0.032911,
     "end_time": "2023-12-14T15:45:18.265672",
     "exception": false,
     "start_time": "2023-12-14T15:45:18.232761",
     "status": "completed"
    },
    "tags": []
   },
   "outputs": [
    {
     "name": "stdout",
     "output_type": "stream",
     "text": [
      "[[1 2 3]\n",
      " [4 5 6]\n",
      " [7 8 9]]\n"
     ]
    },
    {
     "data": {
      "text/plain": [
       "6"
      ]
     },
     "execution_count": 12,
     "metadata": {},
     "output_type": "execute_result"
    }
   ],
   "source": [
    "a = np.array([[1, 2, 3], [4, 5, 6], [7, 8, 9]])\n",
    "print(a)\n",
    "a[1,2]"
   ]
  },
  {
   "cell_type": "code",
   "execution_count": 13,
   "id": "a56c627f",
   "metadata": {
    "execution": {
     "iopub.execute_input": "2023-12-14T15:45:18.305104Z",
     "iopub.status.busy": "2023-12-14T15:45:18.304680Z",
     "iopub.status.idle": "2023-12-14T15:45:18.313330Z",
     "shell.execute_reply": "2023-12-14T15:45:18.312087Z"
    },
    "papermill": {
     "duration": 0.0313,
     "end_time": "2023-12-14T15:45:18.316011",
     "exception": false,
     "start_time": "2023-12-14T15:45:18.284711",
     "status": "completed"
    },
    "tags": []
   },
   "outputs": [
    {
     "data": {
      "text/plain": [
       "array([3, 6])"
      ]
     },
     "execution_count": 13,
     "metadata": {},
     "output_type": "execute_result"
    }
   ],
   "source": [
    "# row 0 to 1 and col 2 will be printed\n",
    "a[0:2, 2]"
   ]
  },
  {
   "cell_type": "code",
   "execution_count": 14,
   "id": "9d8ffa1e",
   "metadata": {
    "execution": {
     "iopub.execute_input": "2023-12-14T15:45:18.355645Z",
     "iopub.status.busy": "2023-12-14T15:45:18.354706Z",
     "iopub.status.idle": "2023-12-14T15:45:18.362094Z",
     "shell.execute_reply": "2023-12-14T15:45:18.361189Z"
    },
    "papermill": {
     "duration": 0.030109,
     "end_time": "2023-12-14T15:45:18.364797",
     "exception": false,
     "start_time": "2023-12-14T15:45:18.334688",
     "status": "completed"
    },
    "tags": []
   },
   "outputs": [
    {
     "data": {
      "text/plain": [
       "array([7, 8, 9])"
      ]
     },
     "execution_count": 14,
     "metadata": {},
     "output_type": "execute_result"
    }
   ],
   "source": [
    "a[-1]"
   ]
  },
  {
   "cell_type": "code",
   "execution_count": 15,
   "id": "ec232c22",
   "metadata": {
    "execution": {
     "iopub.execute_input": "2023-12-14T15:45:18.405373Z",
     "iopub.status.busy": "2023-12-14T15:45:18.404852Z",
     "iopub.status.idle": "2023-12-14T15:45:18.412735Z",
     "shell.execute_reply": "2023-12-14T15:45:18.411442Z"
    },
    "papermill": {
     "duration": 0.031607,
     "end_time": "2023-12-14T15:45:18.415185",
     "exception": false,
     "start_time": "2023-12-14T15:45:18.383578",
     "status": "completed"
    },
    "tags": []
   },
   "outputs": [
    {
     "data": {
      "text/plain": [
       "array([7, 8])"
      ]
     },
     "execution_count": 15,
     "metadata": {},
     "output_type": "execute_result"
    }
   ],
   "source": [
    "a[-1, 0:2]"
   ]
  },
  {
   "cell_type": "code",
   "execution_count": 16,
   "id": "fd5c3c94",
   "metadata": {
    "execution": {
     "iopub.execute_input": "2023-12-14T15:45:18.455144Z",
     "iopub.status.busy": "2023-12-14T15:45:18.454669Z",
     "iopub.status.idle": "2023-12-14T15:45:18.462157Z",
     "shell.execute_reply": "2023-12-14T15:45:18.460834Z"
    },
    "papermill": {
     "duration": 0.031257,
     "end_time": "2023-12-14T15:45:18.465184",
     "exception": false,
     "start_time": "2023-12-14T15:45:18.433927",
     "status": "completed"
    },
    "tags": []
   },
   "outputs": [
    {
     "data": {
      "text/plain": [
       "array([[2],\n",
       "       [5],\n",
       "       [8]])"
      ]
     },
     "execution_count": 16,
     "metadata": {},
     "output_type": "execute_result"
    }
   ],
   "source": [
    "# more clear a[0:3, 1:2] and same\n",
    "a[:, 1:2]"
   ]
  },
  {
   "cell_type": "markdown",
   "id": "7a26ae6e",
   "metadata": {
    "papermill": {
     "duration": 0.021081,
     "end_time": "2023-12-14T15:45:18.505337",
     "exception": false,
     "start_time": "2023-12-14T15:45:18.484256",
     "status": "completed"
    },
    "tags": []
   },
   "source": [
    "## Iterating through numpy array"
   ]
  },
  {
   "cell_type": "code",
   "execution_count": 17,
   "id": "63602d88",
   "metadata": {
    "execution": {
     "iopub.execute_input": "2023-12-14T15:45:18.546077Z",
     "iopub.status.busy": "2023-12-14T15:45:18.545619Z",
     "iopub.status.idle": "2023-12-14T15:45:18.552215Z",
     "shell.execute_reply": "2023-12-14T15:45:18.550580Z"
    },
    "papermill": {
     "duration": 0.032166,
     "end_time": "2023-12-14T15:45:18.556364",
     "exception": false,
     "start_time": "2023-12-14T15:45:18.524198",
     "status": "completed"
    },
    "tags": []
   },
   "outputs": [
    {
     "name": "stdout",
     "output_type": "stream",
     "text": [
      "[1 2 3]\n",
      "[4 5 6]\n",
      "[7 8 9]\n"
     ]
    }
   ],
   "source": [
    "for row in a:\n",
    "    print(row)"
   ]
  },
  {
   "cell_type": "code",
   "execution_count": 18,
   "id": "a213fd21",
   "metadata": {
    "execution": {
     "iopub.execute_input": "2023-12-14T15:45:18.596590Z",
     "iopub.status.busy": "2023-12-14T15:45:18.596162Z",
     "iopub.status.idle": "2023-12-14T15:45:18.602834Z",
     "shell.execute_reply": "2023-12-14T15:45:18.601591Z"
    },
    "papermill": {
     "duration": 0.030374,
     "end_time": "2023-12-14T15:45:18.605940",
     "exception": false,
     "start_time": "2023-12-14T15:45:18.575566",
     "status": "completed"
    },
    "tags": []
   },
   "outputs": [
    {
     "name": "stdout",
     "output_type": "stream",
     "text": [
      "1\n",
      "2\n",
      "3\n",
      "4\n",
      "5\n",
      "6\n",
      "7\n",
      "8\n",
      "9\n"
     ]
    }
   ],
   "source": [
    "for cell in a.flat:\n",
    "    print(cell)"
   ]
  },
  {
   "cell_type": "markdown",
   "id": "51f16e55",
   "metadata": {
    "papermill": {
     "duration": 0.019684,
     "end_time": "2023-12-14T15:45:18.644925",
     "exception": false,
     "start_time": "2023-12-14T15:45:18.625241",
     "status": "completed"
    },
    "tags": []
   },
   "source": [
    "## Stacking two arrays"
   ]
  },
  {
   "cell_type": "code",
   "execution_count": 19,
   "id": "2e1589d2",
   "metadata": {
    "execution": {
     "iopub.execute_input": "2023-12-14T15:45:18.685168Z",
     "iopub.status.busy": "2023-12-14T15:45:18.684707Z",
     "iopub.status.idle": "2023-12-14T15:45:18.692803Z",
     "shell.execute_reply": "2023-12-14T15:45:18.691481Z"
    },
    "papermill": {
     "duration": 0.032112,
     "end_time": "2023-12-14T15:45:18.696181",
     "exception": false,
     "start_time": "2023-12-14T15:45:18.664069",
     "status": "completed"
    },
    "tags": []
   },
   "outputs": [
    {
     "name": "stdout",
     "output_type": "stream",
     "text": [
      "[[0 1]\n",
      " [2 3]\n",
      " [4 5]]\n",
      "[[ 6  7]\n",
      " [ 8  9]\n",
      " [10 11]]\n"
     ]
    }
   ],
   "source": [
    "a = np.arange(6).reshape(3,2)\n",
    "b = np.arange(6,12).reshape(3,2)\n",
    "print(a)\n",
    "print(b)"
   ]
  },
  {
   "cell_type": "code",
   "execution_count": 20,
   "id": "46288b20",
   "metadata": {
    "execution": {
     "iopub.execute_input": "2023-12-14T15:45:18.738292Z",
     "iopub.status.busy": "2023-12-14T15:45:18.737755Z",
     "iopub.status.idle": "2023-12-14T15:45:18.746128Z",
     "shell.execute_reply": "2023-12-14T15:45:18.744803Z"
    },
    "papermill": {
     "duration": 0.03312,
     "end_time": "2023-12-14T15:45:18.749067",
     "exception": false,
     "start_time": "2023-12-14T15:45:18.715947",
     "status": "completed"
    },
    "tags": []
   },
   "outputs": [
    {
     "data": {
      "text/plain": [
       "array([[ 0,  1],\n",
       "       [ 2,  3],\n",
       "       [ 4,  5],\n",
       "       [ 6,  7],\n",
       "       [ 8,  9],\n",
       "       [10, 11]])"
      ]
     },
     "execution_count": 20,
     "metadata": {},
     "output_type": "execute_result"
    }
   ],
   "source": [
    "np.vstack((a,b))"
   ]
  },
  {
   "cell_type": "code",
   "execution_count": 21,
   "id": "c98b0075",
   "metadata": {
    "execution": {
     "iopub.execute_input": "2023-12-14T15:45:18.791449Z",
     "iopub.status.busy": "2023-12-14T15:45:18.790656Z",
     "iopub.status.idle": "2023-12-14T15:45:18.800078Z",
     "shell.execute_reply": "2023-12-14T15:45:18.798785Z"
    },
    "papermill": {
     "duration": 0.034845,
     "end_time": "2023-12-14T15:45:18.803285",
     "exception": false,
     "start_time": "2023-12-14T15:45:18.768440",
     "status": "completed"
    },
    "tags": []
   },
   "outputs": [
    {
     "data": {
      "text/plain": [
       "array([[ 0,  1,  6,  7],\n",
       "       [ 2,  3,  8,  9],\n",
       "       [ 4,  5, 10, 11]])"
      ]
     },
     "execution_count": 21,
     "metadata": {},
     "output_type": "execute_result"
    }
   ],
   "source": [
    "np.hstack((a,b))"
   ]
  },
  {
   "cell_type": "markdown",
   "id": "d6281d61",
   "metadata": {
    "papermill": {
     "duration": 0.020826,
     "end_time": "2023-12-14T15:45:18.844686",
     "exception": false,
     "start_time": "2023-12-14T15:45:18.823860",
     "status": "completed"
    },
    "tags": []
   },
   "source": [
    "## Spliting array"
   ]
  },
  {
   "cell_type": "code",
   "execution_count": 22,
   "id": "0a524c7d",
   "metadata": {
    "execution": {
     "iopub.execute_input": "2023-12-14T15:45:18.886159Z",
     "iopub.status.busy": "2023-12-14T15:45:18.885682Z",
     "iopub.status.idle": "2023-12-14T15:45:18.893874Z",
     "shell.execute_reply": "2023-12-14T15:45:18.892914Z"
    },
    "papermill": {
     "duration": 0.03267,
     "end_time": "2023-12-14T15:45:18.897049",
     "exception": false,
     "start_time": "2023-12-14T15:45:18.864379",
     "status": "completed"
    },
    "tags": []
   },
   "outputs": [
    {
     "data": {
      "text/plain": [
       "array([[ 0,  1,  2,  3,  4,  5,  6,  7,  8,  9, 10, 11, 12, 13, 14],\n",
       "       [15, 16, 17, 18, 19, 20, 21, 22, 23, 24, 25, 26, 27, 28, 29]])"
      ]
     },
     "execution_count": 22,
     "metadata": {},
     "output_type": "execute_result"
    }
   ],
   "source": [
    "a = np.arange(30).reshape(2, 15)\n",
    "a"
   ]
  },
  {
   "cell_type": "code",
   "execution_count": 23,
   "id": "e37b9630",
   "metadata": {
    "execution": {
     "iopub.execute_input": "2023-12-14T15:45:18.939491Z",
     "iopub.status.busy": "2023-12-14T15:45:18.939011Z",
     "iopub.status.idle": "2023-12-14T15:45:18.946573Z",
     "shell.execute_reply": "2023-12-14T15:45:18.945718Z"
    },
    "papermill": {
     "duration": 0.031108,
     "end_time": "2023-12-14T15:45:18.948722",
     "exception": false,
     "start_time": "2023-12-14T15:45:18.917614",
     "status": "completed"
    },
    "tags": []
   },
   "outputs": [
    {
     "data": {
      "text/plain": [
       "[array([[ 0,  1,  2,  3,  4],\n",
       "        [15, 16, 17, 18, 19]]),\n",
       " array([[ 5,  6,  7,  8,  9],\n",
       "        [20, 21, 22, 23, 24]]),\n",
       " array([[10, 11, 12, 13, 14],\n",
       "        [25, 26, 27, 28, 29]])]"
      ]
     },
     "execution_count": 23,
     "metadata": {},
     "output_type": "execute_result"
    }
   ],
   "source": [
    "np.hsplit(a,3)"
   ]
  },
  {
   "cell_type": "code",
   "execution_count": 24,
   "id": "f3819239",
   "metadata": {
    "execution": {
     "iopub.execute_input": "2023-12-14T15:45:18.991098Z",
     "iopub.status.busy": "2023-12-14T15:45:18.990630Z",
     "iopub.status.idle": "2023-12-14T15:45:18.996698Z",
     "shell.execute_reply": "2023-12-14T15:45:18.995364Z"
    },
    "papermill": {
     "duration": 0.030686,
     "end_time": "2023-12-14T15:45:18.999400",
     "exception": false,
     "start_time": "2023-12-14T15:45:18.968714",
     "status": "completed"
    },
    "tags": []
   },
   "outputs": [],
   "source": [
    "result = np.hsplit(a, 3)"
   ]
  },
  {
   "cell_type": "code",
   "execution_count": 25,
   "id": "efd7a461",
   "metadata": {
    "execution": {
     "iopub.execute_input": "2023-12-14T15:45:19.041142Z",
     "iopub.status.busy": "2023-12-14T15:45:19.040677Z",
     "iopub.status.idle": "2023-12-14T15:45:19.048252Z",
     "shell.execute_reply": "2023-12-14T15:45:19.047092Z"
    },
    "papermill": {
     "duration": 0.031775,
     "end_time": "2023-12-14T15:45:19.051203",
     "exception": false,
     "start_time": "2023-12-14T15:45:19.019428",
     "status": "completed"
    },
    "tags": []
   },
   "outputs": [
    {
     "data": {
      "text/plain": [
       "array([[ 0,  1,  2,  3,  4],\n",
       "       [15, 16, 17, 18, 19]])"
      ]
     },
     "execution_count": 25,
     "metadata": {},
     "output_type": "execute_result"
    }
   ],
   "source": [
    "result[0]"
   ]
  },
  {
   "cell_type": "code",
   "execution_count": 26,
   "id": "aa5d8892",
   "metadata": {
    "execution": {
     "iopub.execute_input": "2023-12-14T15:45:19.095419Z",
     "iopub.status.busy": "2023-12-14T15:45:19.094192Z",
     "iopub.status.idle": "2023-12-14T15:45:19.102299Z",
     "shell.execute_reply": "2023-12-14T15:45:19.101151Z"
    },
    "papermill": {
     "duration": 0.033812,
     "end_time": "2023-12-14T15:45:19.104922",
     "exception": false,
     "start_time": "2023-12-14T15:45:19.071110",
     "status": "completed"
    },
    "tags": []
   },
   "outputs": [
    {
     "data": {
      "text/plain": [
       "array([[ 5,  6,  7,  8,  9],\n",
       "       [20, 21, 22, 23, 24]])"
      ]
     },
     "execution_count": 26,
     "metadata": {},
     "output_type": "execute_result"
    }
   ],
   "source": [
    "result[1]"
   ]
  },
  {
   "cell_type": "code",
   "execution_count": 27,
   "id": "cce9230f",
   "metadata": {
    "execution": {
     "iopub.execute_input": "2023-12-14T15:45:19.149768Z",
     "iopub.status.busy": "2023-12-14T15:45:19.148819Z",
     "iopub.status.idle": "2023-12-14T15:45:19.156574Z",
     "shell.execute_reply": "2023-12-14T15:45:19.155380Z"
    },
    "papermill": {
     "duration": 0.032756,
     "end_time": "2023-12-14T15:45:19.159652",
     "exception": false,
     "start_time": "2023-12-14T15:45:19.126896",
     "status": "completed"
    },
    "tags": []
   },
   "outputs": [
    {
     "data": {
      "text/plain": [
       "array([[10, 11, 12, 13, 14],\n",
       "       [25, 26, 27, 28, 29]])"
      ]
     },
     "execution_count": 27,
     "metadata": {},
     "output_type": "execute_result"
    }
   ],
   "source": [
    "result[2]"
   ]
  },
  {
   "cell_type": "code",
   "execution_count": 28,
   "id": "698c4c89",
   "metadata": {
    "execution": {
     "iopub.execute_input": "2023-12-14T15:45:19.203837Z",
     "iopub.status.busy": "2023-12-14T15:45:19.203387Z",
     "iopub.status.idle": "2023-12-14T15:45:19.211506Z",
     "shell.execute_reply": "2023-12-14T15:45:19.210417Z"
    },
    "papermill": {
     "duration": 0.034424,
     "end_time": "2023-12-14T15:45:19.214301",
     "exception": false,
     "start_time": "2023-12-14T15:45:19.179877",
     "status": "completed"
    },
    "tags": []
   },
   "outputs": [
    {
     "data": {
      "text/plain": [
       "[array([[ 0,  1,  2,  3,  4,  5,  6,  7,  8,  9, 10, 11, 12, 13, 14]]),\n",
       " array([[15, 16, 17, 18, 19, 20, 21, 22, 23, 24, 25, 26, 27, 28, 29]])]"
      ]
     },
     "execution_count": 28,
     "metadata": {},
     "output_type": "execute_result"
    }
   ],
   "source": [
    "np.vsplit(a,2)"
   ]
  },
  {
   "cell_type": "markdown",
   "id": "7162b4e2",
   "metadata": {
    "papermill": {
     "duration": 0.020751,
     "end_time": "2023-12-14T15:45:19.256075",
     "exception": false,
     "start_time": "2023-12-14T15:45:19.235324",
     "status": "completed"
    },
    "tags": []
   },
   "source": [
    "## Indexing with boolian array"
   ]
  },
  {
   "cell_type": "code",
   "execution_count": 29,
   "id": "e4a70fe7",
   "metadata": {
    "execution": {
     "iopub.execute_input": "2023-12-14T15:45:19.300953Z",
     "iopub.status.busy": "2023-12-14T15:45:19.300512Z",
     "iopub.status.idle": "2023-12-14T15:45:19.308583Z",
     "shell.execute_reply": "2023-12-14T15:45:19.307290Z"
    },
    "papermill": {
     "duration": 0.033705,
     "end_time": "2023-12-14T15:45:19.311274",
     "exception": false,
     "start_time": "2023-12-14T15:45:19.277569",
     "status": "completed"
    },
    "tags": []
   },
   "outputs": [
    {
     "data": {
      "text/plain": [
       "array([[ 0,  1,  2,  3],\n",
       "       [ 4,  5,  6,  7],\n",
       "       [ 8,  9, 10, 11]])"
      ]
     },
     "execution_count": 29,
     "metadata": {},
     "output_type": "execute_result"
    }
   ],
   "source": [
    "a = np.arange(12).reshape(3,4)\n",
    "a"
   ]
  },
  {
   "cell_type": "code",
   "execution_count": 30,
   "id": "bc7b93ca",
   "metadata": {
    "execution": {
     "iopub.execute_input": "2023-12-14T15:45:19.354903Z",
     "iopub.status.busy": "2023-12-14T15:45:19.354457Z",
     "iopub.status.idle": "2023-12-14T15:45:19.361396Z",
     "shell.execute_reply": "2023-12-14T15:45:19.360506Z"
    },
    "papermill": {
     "duration": 0.031786,
     "end_time": "2023-12-14T15:45:19.363703",
     "exception": false,
     "start_time": "2023-12-14T15:45:19.331917",
     "status": "completed"
    },
    "tags": []
   },
   "outputs": [
    {
     "data": {
      "text/plain": [
       "array([[False, False, False, False],\n",
       "       [False,  True,  True,  True],\n",
       "       [ True,  True,  True,  True]])"
      ]
     },
     "execution_count": 30,
     "metadata": {},
     "output_type": "execute_result"
    }
   ],
   "source": [
    "b = a > 4\n",
    "b"
   ]
  },
  {
   "cell_type": "code",
   "execution_count": 31,
   "id": "6637294c",
   "metadata": {
    "execution": {
     "iopub.execute_input": "2023-12-14T15:45:19.409433Z",
     "iopub.status.busy": "2023-12-14T15:45:19.408916Z",
     "iopub.status.idle": "2023-12-14T15:45:19.417392Z",
     "shell.execute_reply": "2023-12-14T15:45:19.415979Z"
    },
    "papermill": {
     "duration": 0.035023,
     "end_time": "2023-12-14T15:45:19.420131",
     "exception": false,
     "start_time": "2023-12-14T15:45:19.385108",
     "status": "completed"
    },
    "tags": []
   },
   "outputs": [
    {
     "data": {
      "text/plain": [
       "array([ 5,  6,  7,  8,  9, 10, 11])"
      ]
     },
     "execution_count": 31,
     "metadata": {},
     "output_type": "execute_result"
    }
   ],
   "source": [
    "# Extracting and reasigning\n",
    "a[b]"
   ]
  },
  {
   "cell_type": "code",
   "execution_count": 32,
   "id": "01ccc8c4",
   "metadata": {
    "execution": {
     "iopub.execute_input": "2023-12-14T15:45:19.464239Z",
     "iopub.status.busy": "2023-12-14T15:45:19.463785Z",
     "iopub.status.idle": "2023-12-14T15:45:19.471432Z",
     "shell.execute_reply": "2023-12-14T15:45:19.470229Z"
    },
    "papermill": {
     "duration": 0.032832,
     "end_time": "2023-12-14T15:45:19.473926",
     "exception": false,
     "start_time": "2023-12-14T15:45:19.441094",
     "status": "completed"
    },
    "tags": []
   },
   "outputs": [
    {
     "data": {
      "text/plain": [
       "array([[ 0,  1,  2,  3],\n",
       "       [ 4, -1, -1, -1],\n",
       "       [-1, -1, -1, -1]])"
      ]
     },
     "execution_count": 32,
     "metadata": {},
     "output_type": "execute_result"
    }
   ],
   "source": [
    "a[b] = -1\n",
    "a"
   ]
  },
  {
   "cell_type": "markdown",
   "id": "a0777790",
   "metadata": {
    "papermill": {
     "duration": 0.020632,
     "end_time": "2023-12-14T15:45:19.515902",
     "exception": false,
     "start_time": "2023-12-14T15:45:19.495270",
     "status": "completed"
    },
    "tags": []
   },
   "source": [
    "## Iterate array using nditer"
   ]
  },
  {
   "cell_type": "code",
   "execution_count": 33,
   "id": "ce3fb962",
   "metadata": {
    "execution": {
     "iopub.execute_input": "2023-12-14T15:45:19.560388Z",
     "iopub.status.busy": "2023-12-14T15:45:19.559910Z",
     "iopub.status.idle": "2023-12-14T15:45:19.568126Z",
     "shell.execute_reply": "2023-12-14T15:45:19.566901Z"
    },
    "papermill": {
     "duration": 0.034176,
     "end_time": "2023-12-14T15:45:19.571144",
     "exception": false,
     "start_time": "2023-12-14T15:45:19.536968",
     "status": "completed"
    },
    "tags": []
   },
   "outputs": [
    {
     "data": {
      "text/plain": [
       "array([[ 0,  1,  2,  3],\n",
       "       [ 4,  5,  6,  7],\n",
       "       [ 8,  9, 10, 11]])"
      ]
     },
     "execution_count": 33,
     "metadata": {},
     "output_type": "execute_result"
    }
   ],
   "source": [
    "a = np.arange(12).reshape(3,4)\n",
    "a"
   ]
  },
  {
   "cell_type": "code",
   "execution_count": 34,
   "id": "c3bded52",
   "metadata": {
    "execution": {
     "iopub.execute_input": "2023-12-14T15:45:19.618416Z",
     "iopub.status.busy": "2023-12-14T15:45:19.617949Z",
     "iopub.status.idle": "2023-12-14T15:45:19.623791Z",
     "shell.execute_reply": "2023-12-14T15:45:19.622707Z"
    },
    "papermill": {
     "duration": 0.033368,
     "end_time": "2023-12-14T15:45:19.627045",
     "exception": false,
     "start_time": "2023-12-14T15:45:19.593677",
     "status": "completed"
    },
    "tags": []
   },
   "outputs": [
    {
     "name": "stdout",
     "output_type": "stream",
     "text": [
      "0\n",
      "1\n",
      "2\n",
      "3\n",
      "4\n",
      "5\n",
      "6\n",
      "7\n",
      "8\n",
      "9\n",
      "10\n",
      "11\n"
     ]
    }
   ],
   "source": [
    "for cell in a.flatten():\n",
    "    print(cell)"
   ]
  },
  {
   "cell_type": "code",
   "execution_count": 35,
   "id": "31d5e375",
   "metadata": {
    "execution": {
     "iopub.execute_input": "2023-12-14T15:45:19.673697Z",
     "iopub.status.busy": "2023-12-14T15:45:19.673178Z",
     "iopub.status.idle": "2023-12-14T15:45:19.680335Z",
     "shell.execute_reply": "2023-12-14T15:45:19.679014Z"
    },
    "papermill": {
     "duration": 0.034468,
     "end_time": "2023-12-14T15:45:19.683450",
     "exception": false,
     "start_time": "2023-12-14T15:45:19.648982",
     "status": "completed"
    },
    "tags": []
   },
   "outputs": [
    {
     "name": "stdout",
     "output_type": "stream",
     "text": [
      "0\n",
      "1\n",
      "2\n",
      "3\n",
      "4\n",
      "5\n",
      "6\n",
      "7\n",
      "8\n",
      "9\n",
      "10\n",
      "11\n"
     ]
    }
   ],
   "source": [
    "# printing in C order or Fortran order\n",
    "for x in np.nditer(a, order='C'):\n",
    "    print(x)"
   ]
  },
  {
   "cell_type": "code",
   "execution_count": 36,
   "id": "042a5e53",
   "metadata": {
    "execution": {
     "iopub.execute_input": "2023-12-14T15:45:19.731531Z",
     "iopub.status.busy": "2023-12-14T15:45:19.731011Z",
     "iopub.status.idle": "2023-12-14T15:45:19.737879Z",
     "shell.execute_reply": "2023-12-14T15:45:19.736532Z"
    },
    "papermill": {
     "duration": 0.034462,
     "end_time": "2023-12-14T15:45:19.740519",
     "exception": false,
     "start_time": "2023-12-14T15:45:19.706057",
     "status": "completed"
    },
    "tags": []
   },
   "outputs": [
    {
     "name": "stdout",
     "output_type": "stream",
     "text": [
      "0\n",
      "4\n",
      "8\n",
      "1\n",
      "5\n",
      "9\n",
      "2\n",
      "6\n",
      "10\n",
      "3\n",
      "7\n",
      "11\n"
     ]
    }
   ],
   "source": [
    "for x in np.nditer(a, order='F'):\n",
    "    print(x)"
   ]
  },
  {
   "cell_type": "code",
   "execution_count": 37,
   "id": "75198c2c",
   "metadata": {
    "execution": {
     "iopub.execute_input": "2023-12-14T15:45:19.787738Z",
     "iopub.status.busy": "2023-12-14T15:45:19.787273Z",
     "iopub.status.idle": "2023-12-14T15:45:19.794168Z",
     "shell.execute_reply": "2023-12-14T15:45:19.792843Z"
    },
    "papermill": {
     "duration": 0.03449,
     "end_time": "2023-12-14T15:45:19.797218",
     "exception": false,
     "start_time": "2023-12-14T15:45:19.762728",
     "status": "completed"
    },
    "tags": []
   },
   "outputs": [
    {
     "name": "stdout",
     "output_type": "stream",
     "text": [
      "[0 4 8]\n",
      "[1 5 9]\n",
      "[ 2  6 10]\n",
      "[ 3  7 11]\n"
     ]
    }
   ],
   "source": [
    "# Col-wise printing\n",
    "for x in np.nditer(a, order='F', flags=['external_loop']):\n",
    "    print(x)"
   ]
  },
  {
   "cell_type": "code",
   "execution_count": 38,
   "id": "cb6ff9bc",
   "metadata": {
    "execution": {
     "iopub.execute_input": "2023-12-14T15:45:19.844992Z",
     "iopub.status.busy": "2023-12-14T15:45:19.844525Z",
     "iopub.status.idle": "2023-12-14T15:45:19.850066Z",
     "shell.execute_reply": "2023-12-14T15:45:19.848818Z"
    },
    "papermill": {
     "duration": 0.03254,
     "end_time": "2023-12-14T15:45:19.852586",
     "exception": false,
     "start_time": "2023-12-14T15:45:19.820046",
     "status": "completed"
    },
    "tags": []
   },
   "outputs": [],
   "source": [
    "# iterate and modify\n",
    "for x in np.nditer(a, op_flags=['readwrite']):\n",
    "    x[...]=x*x"
   ]
  },
  {
   "cell_type": "code",
   "execution_count": 39,
   "id": "fbfce95c",
   "metadata": {
    "execution": {
     "iopub.execute_input": "2023-12-14T15:45:19.899578Z",
     "iopub.status.busy": "2023-12-14T15:45:19.899069Z",
     "iopub.status.idle": "2023-12-14T15:45:19.906983Z",
     "shell.execute_reply": "2023-12-14T15:45:19.905783Z"
    },
    "papermill": {
     "duration": 0.033899,
     "end_time": "2023-12-14T15:45:19.909440",
     "exception": false,
     "start_time": "2023-12-14T15:45:19.875541",
     "status": "completed"
    },
    "tags": []
   },
   "outputs": [
    {
     "data": {
      "text/plain": [
       "array([[  0,   1,   4,   9],\n",
       "       [ 16,  25,  36,  49],\n",
       "       [ 64,  81, 100, 121]])"
      ]
     },
     "execution_count": 39,
     "metadata": {},
     "output_type": "execute_result"
    }
   ],
   "source": [
    "a"
   ]
  },
  {
   "cell_type": "code",
   "execution_count": 40,
   "id": "d56fe211",
   "metadata": {
    "execution": {
     "iopub.execute_input": "2023-12-14T15:45:19.957604Z",
     "iopub.status.busy": "2023-12-14T15:45:19.957041Z",
     "iopub.status.idle": "2023-12-14T15:45:19.966312Z",
     "shell.execute_reply": "2023-12-14T15:45:19.965070Z"
    },
    "papermill": {
     "duration": 0.036725,
     "end_time": "2023-12-14T15:45:19.969723",
     "exception": false,
     "start_time": "2023-12-14T15:45:19.932998",
     "status": "completed"
    },
    "tags": []
   },
   "outputs": [
    {
     "data": {
      "text/plain": [
       "array([[ 3],\n",
       "       [ 7],\n",
       "       [11]])"
      ]
     },
     "execution_count": 40,
     "metadata": {},
     "output_type": "execute_result"
    }
   ],
   "source": [
    "# Iterate through two arrays make sure dimentions match\n",
    "b = np.arange(3, 15, 4).reshape(3,1)\n",
    "b"
   ]
  },
  {
   "cell_type": "code",
   "execution_count": 41,
   "id": "06c286bc",
   "metadata": {
    "execution": {
     "iopub.execute_input": "2023-12-14T15:45:20.019249Z",
     "iopub.status.busy": "2023-12-14T15:45:20.018777Z",
     "iopub.status.idle": "2023-12-14T15:45:20.024969Z",
     "shell.execute_reply": "2023-12-14T15:45:20.023983Z"
    },
    "papermill": {
     "duration": 0.035013,
     "end_time": "2023-12-14T15:45:20.028563",
     "exception": false,
     "start_time": "2023-12-14T15:45:19.993550",
     "status": "completed"
    },
    "tags": []
   },
   "outputs": [
    {
     "name": "stdout",
     "output_type": "stream",
     "text": [
      "0 3\n",
      "1 3\n",
      "4 3\n",
      "9 3\n",
      "16 7\n",
      "25 7\n",
      "36 7\n",
      "49 7\n",
      "64 11\n",
      "81 11\n",
      "100 11\n",
      "121 11\n"
     ]
    }
   ],
   "source": [
    "for x,y in np.nditer([a,b]):\n",
    "    print(x,y)"
   ]
  },
  {
   "cell_type": "code",
   "execution_count": null,
   "id": "a8954264",
   "metadata": {
    "papermill": {
     "duration": 0.022362,
     "end_time": "2023-12-14T15:45:20.074425",
     "exception": false,
     "start_time": "2023-12-14T15:45:20.052063",
     "status": "completed"
    },
    "tags": []
   },
   "outputs": [],
   "source": []
  }
 ],
 "metadata": {
  "kaggle": {
   "accelerator": "none",
   "dataSources": [],
   "dockerImageVersionId": 30615,
   "isGpuEnabled": false,
   "isInternetEnabled": true,
   "language": "python",
   "sourceType": "notebook"
  },
  "kernelspec": {
   "display_name": "Python 3",
   "language": "python",
   "name": "python3"
  },
  "language_info": {
   "codemirror_mode": {
    "name": "ipython",
    "version": 3
   },
   "file_extension": ".py",
   "mimetype": "text/x-python",
   "name": "python",
   "nbconvert_exporter": "python",
   "pygments_lexer": "ipython3",
   "version": "3.10.12"
  },
  "papermill": {
   "default_parameters": {},
   "duration": 7.644425,
   "end_time": "2023-12-14T15:45:20.719745",
   "environment_variables": {},
   "exception": null,
   "input_path": "__notebook__.ipynb",
   "output_path": "__notebook__.ipynb",
   "parameters": {},
   "start_time": "2023-12-14T15:45:13.075320",
   "version": "2.4.0"
  }
 },
 "nbformat": 4,
 "nbformat_minor": 5
}
